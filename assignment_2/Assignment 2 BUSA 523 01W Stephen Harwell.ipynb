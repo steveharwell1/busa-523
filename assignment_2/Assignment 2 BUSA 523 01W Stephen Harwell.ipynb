{
 "cells": [
  {
   "cell_type": "markdown",
   "id": "4b0ea60b",
   "metadata": {},
   "source": [
    "# Assignment 2 Stephen Harwell"
   ]
  },
  {
   "cell_type": "code",
   "execution_count": 1,
   "id": "5ac5fc7b",
   "metadata": {},
   "outputs": [],
   "source": [
    "import numpy as np\n",
    "import random"
   ]
  },
  {
   "cell_type": "markdown",
   "id": "cb559f96",
   "metadata": {},
   "source": [
    "# Problem 1\n",
    "Write a program for flipping a coin 10,000 times and store the results in a list.\n",
    "After which, identify the number of streaks. (streak - a series of 5 or more\n",
    "heads or tails)"
   ]
  },
  {
   "cell_type": "code",
   "execution_count": 2,
   "id": "5fd484ab",
   "metadata": {},
   "outputs": [
    {
     "name": "stdout",
     "output_type": "stream",
     "text": [
      "<class 'list'>\n",
      "There were 332 streaks of length 5 or more in the list\n"
     ]
    }
   ],
   "source": [
    "choices = ['heads', 'tails']\n",
    "trials = [ random.choice(choices) for _ in range(10000)]\n",
    "print(type(trials))\n",
    "streaks = 0\n",
    "current_run_length = 1\n",
    "for trial, next_trial in zip(trials[:-1], trials[1:]):\n",
    "    if trial == next_trial:\n",
    "        current_run_length += 1\n",
    "    else:\n",
    "        if current_run_length > 4:\n",
    "            streaks += 1\n",
    "        current_run_length = 1\n",
    "# If the last elements in a list constitute a run then mark it.\n",
    "if current_run_length > 4:\n",
    "    streaks += 1\n",
    "print(f'There were {streaks} streaks of length 5 or more in the list')\n"
   ]
  },
  {
   "cell_type": "markdown",
   "id": "ea5f8bf0",
   "metadata": {},
   "source": [
    "# Problem 2\n",
    "\n",
    "Write a program to take user inputs (number of swords, diamonds, gold coins,\n",
    "ropes and potions) for a video game and store them in a dictionary. After\n",
    "which print the following output. (20)\n",
    "```\n",
    "Inventory:\n",
    "5 swords\n",
    "10 diamonds\n",
    "6 gold coins\n",
    "3 rope\n",
    "2 potions\n",
    "```"
   ]
  },
  {
   "cell_type": "code",
   "execution_count": 3,
   "id": "de9f9820",
   "metadata": {
    "scrolled": true
   },
   "outputs": [
    {
     "name": "stdout",
     "output_type": "stream",
     "text": [
      "How many swords do you have? 4\n",
      "How many diamonds do you have? 4\n",
      "How many gold coins do you have? 4\n",
      "How many rope do you have? 4\n",
      "How many potions do you have? 4\n",
      "\n",
      "Inventory\n",
      "4 swords\n",
      "4 diamonds\n",
      "4 gold coins\n",
      "4 rope\n",
      "4 potions\n"
     ]
    }
   ],
   "source": [
    "inventory = {\n",
    "    'swords': None,\n",
    "    'diamonds': None,\n",
    "    'gold coins': None,\n",
    "    'rope': None,\n",
    "    'potions': None,\n",
    "}\n",
    "\n",
    "for key in inventory:\n",
    "    inventory[key] = input(f'How many {key} do you have? ')\n",
    "\n",
    "print('\\nInventory', *[f'{value} {key}' for key, value in inventory.items()], sep='\\n')"
   ]
  },
  {
   "cell_type": "markdown",
   "id": "f0068fff",
   "metadata": {},
   "source": [
    "# Problem 3\n",
    "Repeat question 1 using arrays. (20)"
   ]
  },
  {
   "cell_type": "code",
   "execution_count": 4,
   "id": "0ae24b1e",
   "metadata": {},
   "outputs": [
    {
     "name": "stdout",
     "output_type": "stream",
     "text": [
      "<class 'numpy.ndarray'>\n",
      "There were 310 streaks of length 5 or more in the list\n"
     ]
    }
   ],
   "source": [
    "np.random.seed(10)\n",
    "choices = np.array(['heads', 'tails'])\n",
    "trials = np.random.choice(choices, size=10000)\n",
    "print(type(trials))\n",
    "streaks = 0\n",
    "current_run_length = 1\n",
    "for trial, next_trial in zip(np.nditer(trials[:-1]), np.nditer(trials[1:])):\n",
    "    if trial == next_trial:\n",
    "        current_run_length += 1\n",
    "    else:\n",
    "        if current_run_length > 4:\n",
    "            streaks += 1\n",
    "        current_run_length = 1\n",
    "# If the last elements in a list constitute a run then mark it.\n",
    "if current_run_length > 4:\n",
    "    streaks += 1\n",
    "print(f'There were {streaks} streaks of length 5 or more in the list')"
   ]
  },
  {
   "cell_type": "markdown",
   "id": "6e8c1b3f",
   "metadata": {},
   "source": [
    "# Problem 4\n",
    "Create a game with the following instructions: (40)\n",
    "1. There are 3 players and 10 iterations.\n",
    "2. In each iteration, every player rolls a die.\n",
    "3. The winner of the game is the one who has the highest score when rolls from all the iterations are added."
   ]
  },
  {
   "cell_type": "code",
   "execution_count": 5,
   "id": "fae20d26",
   "metadata": {},
   "outputs": [
    {
     "name": "stdout",
     "output_type": "stream",
     "text": [
      "Player 1\tPlayer 2\tPlayer 3\n",
      "5\t\t4\t\t1\n",
      "1\t\t5\t\t5\n",
      "4\t\t6\t\t1\n",
      "1\t\t5\t\t1\n",
      "4\t\t1\t\t6\n",
      "6\t\t1\t\t2\n",
      "2\t\t5\t\t1\n",
      "3\t\t5\t\t5\n",
      "2\t\t3\t\t6\n",
      "4\t\t4\t\t3\n",
      "----------------------------------------\n",
      "32\t\t39\t\t31\n",
      "The winner is Player 2 with a total of 39.\n"
     ]
    }
   ],
   "source": [
    "players = {'Player 1': 0, 'Player 2': 0, 'Player 3': 0}\n",
    "\n",
    "print(*players.keys(), sep='\\t')\n",
    "trials = [];\n",
    "\n",
    "for _ in range(10):\n",
    "    trial = [random.randint(1, 6) for player in players]\n",
    "    print(*trial, sep='\\t\\t')\n",
    "    for player, roll in zip(players, trial):\n",
    "        players[player] += roll\n",
    "    \n",
    "print('-'*40)\n",
    "print(*players.values(), sep='\\t\\t')\n",
    "high_score = max(players.values())\n",
    "winners = [player for player in players if players[player] == high_score]\n",
    "if len(winners) < 2:\n",
    "    print(f'The winner is {\", \".join(winners)} with a total of {high_score}.')\n",
    "else:\n",
    "    print(f'The winners are {\", \".join(winners[:-1])} and {winners[-1]} with a total of {high_score}.')\n"
   ]
  },
  {
   "cell_type": "code",
   "execution_count": null,
   "id": "6462a71b",
   "metadata": {},
   "outputs": [],
   "source": []
  }
 ],
 "metadata": {
  "kernelspec": {
   "display_name": "Python 3 (ipykernel)",
   "language": "python",
   "name": "python3"
  },
  "language_info": {
   "codemirror_mode": {
    "name": "ipython",
    "version": 3
   },
   "file_extension": ".py",
   "mimetype": "text/x-python",
   "name": "python",
   "nbconvert_exporter": "python",
   "pygments_lexer": "ipython3",
   "version": "3.9.7"
  }
 },
 "nbformat": 4,
 "nbformat_minor": 5
}
