{
 "cells": [
  {
   "cell_type": "markdown",
   "id": "2bc1634f",
   "metadata": {},
   "source": [
    "# Project BUSA 523\n",
    "[Dataset information](https://archive.ics.uci.edu/ml/datasets/Haberman%27s+Survival)"
   ]
  },
  {
   "cell_type": "markdown",
   "id": "d5a4d3c5",
   "metadata": {},
   "source": [
    "1. Perform Exploratory data analysis (20)\n",
    "    * What can you conclude from methods of [central tendency](#Central-Tendency) &darr; and deviation of the variables?\n",
    "        * <span style=\"color: #00386C\">For **Age** and **Year** the means and medians are close to each other. **Auxillary nodes** have the opposite description.</span>\n",
    "    * Are there any correlated variables?\n",
    "        * <span style=\"color: #00386C\">No columns are [correlated](#Correlation) &darr; to each other.</span>\n",
    "    * Interpret the skewness of the variables.\n",
    "        * <span style=\"color: #00386C\">**Auxillary nodes** are quite skewed when viewing the [boxplot](#Boxplots) &darr;. Many values are zeros and the remainder spread a large range. A transformation of log() was applied where zeros are allowed to remain as zeros. The [Resource](https://opendatascience.com/transforming-skewed-data-for-machine-learning/) from our lessons says that lots of zeros are well suited for decision trees. I predict one of the tree alogoriths to do better than the others because of this. Outliers where not removed, because the data is still a little skewed and the outliers don't have a big gap from the end of the box plot.</span>"
   ]
  },
  {
   "cell_type": "markdown",
   "id": "ce1fea83",
   "metadata": {},
   "source": [
    "<div style=\"background: #00386c; padding: 1.5rem 3rem 2rem; color: #FFF;\">\n",
    "\n",
    "# Exploration and Preparation\n",
    "    \n",
    "</div>"
   ]
  },
  {
   "cell_type": "code",
   "execution_count": 1,
   "id": "45dbffcf",
   "metadata": {},
   "outputs": [],
   "source": [
    "import pandas as pd\n",
    "import numpy as np\n",
    "data = pd.read_csv('cancer.csv')\n",
    "data = data.rename(columns={'Survival ': 'Survival'})"
   ]
  },
  {
   "cell_type": "markdown",
   "id": "5daec053",
   "metadata": {},
   "source": [
    "Data appears to not have null data. Thanks!"
   ]
  },
  {
   "cell_type": "code",
   "execution_count": 2,
   "id": "c39cfa86",
   "metadata": {},
   "outputs": [
    {
     "name": "stdout",
     "output_type": "stream",
     "text": [
      "<class 'pandas.core.frame.DataFrame'>\n",
      "RangeIndex: 305 entries, 0 to 304\n",
      "Data columns (total 4 columns):\n",
      " #   Column           Non-Null Count  Dtype\n",
      "---  ------           --------------  -----\n",
      " 0   Age              305 non-null    int64\n",
      " 1   Year             305 non-null    int64\n",
      " 2   Auxillary nodes  305 non-null    int64\n",
      " 3   Survival         305 non-null    int64\n",
      "dtypes: int64(4)\n",
      "memory usage: 9.7 KB\n"
     ]
    }
   ],
   "source": [
    "data.info()"
   ]
  },
  {
   "cell_type": "code",
   "execution_count": 3,
   "id": "21020903",
   "metadata": {},
   "outputs": [
    {
     "data": {
      "text/html": [
       "<div>\n",
       "<style scoped>\n",
       "    .dataframe tbody tr th:only-of-type {\n",
       "        vertical-align: middle;\n",
       "    }\n",
       "\n",
       "    .dataframe tbody tr th {\n",
       "        vertical-align: top;\n",
       "    }\n",
       "\n",
       "    .dataframe thead th {\n",
       "        text-align: right;\n",
       "    }\n",
       "</style>\n",
       "<table border=\"1\" class=\"dataframe\">\n",
       "  <thead>\n",
       "    <tr style=\"text-align: right;\">\n",
       "      <th></th>\n",
       "      <th>Age</th>\n",
       "      <th>Year</th>\n",
       "      <th>Auxillary nodes</th>\n",
       "      <th>Survival</th>\n",
       "    </tr>\n",
       "  </thead>\n",
       "  <tbody>\n",
       "    <tr>\n",
       "      <th>count</th>\n",
       "      <td>305.000000</td>\n",
       "      <td>305.000000</td>\n",
       "      <td>305.000000</td>\n",
       "      <td>305.000000</td>\n",
       "    </tr>\n",
       "    <tr>\n",
       "      <th>mean</th>\n",
       "      <td>52.531148</td>\n",
       "      <td>62.849180</td>\n",
       "      <td>4.036066</td>\n",
       "      <td>1.265574</td>\n",
       "    </tr>\n",
       "    <tr>\n",
       "      <th>std</th>\n",
       "      <td>10.744024</td>\n",
       "      <td>3.254078</td>\n",
       "      <td>7.199370</td>\n",
       "      <td>0.442364</td>\n",
       "    </tr>\n",
       "    <tr>\n",
       "      <th>min</th>\n",
       "      <td>30.000000</td>\n",
       "      <td>58.000000</td>\n",
       "      <td>0.000000</td>\n",
       "      <td>1.000000</td>\n",
       "    </tr>\n",
       "    <tr>\n",
       "      <th>25%</th>\n",
       "      <td>44.000000</td>\n",
       "      <td>60.000000</td>\n",
       "      <td>0.000000</td>\n",
       "      <td>1.000000</td>\n",
       "    </tr>\n",
       "    <tr>\n",
       "      <th>50%</th>\n",
       "      <td>52.000000</td>\n",
       "      <td>63.000000</td>\n",
       "      <td>1.000000</td>\n",
       "      <td>1.000000</td>\n",
       "    </tr>\n",
       "    <tr>\n",
       "      <th>75%</th>\n",
       "      <td>61.000000</td>\n",
       "      <td>66.000000</td>\n",
       "      <td>4.000000</td>\n",
       "      <td>2.000000</td>\n",
       "    </tr>\n",
       "    <tr>\n",
       "      <th>max</th>\n",
       "      <td>83.000000</td>\n",
       "      <td>69.000000</td>\n",
       "      <td>52.000000</td>\n",
       "      <td>2.000000</td>\n",
       "    </tr>\n",
       "  </tbody>\n",
       "</table>\n",
       "</div>"
      ],
      "text/plain": [
       "              Age        Year  Auxillary nodes    Survival\n",
       "count  305.000000  305.000000       305.000000  305.000000\n",
       "mean    52.531148   62.849180         4.036066    1.265574\n",
       "std     10.744024    3.254078         7.199370    0.442364\n",
       "min     30.000000   58.000000         0.000000    1.000000\n",
       "25%     44.000000   60.000000         0.000000    1.000000\n",
       "50%     52.000000   63.000000         1.000000    1.000000\n",
       "75%     61.000000   66.000000         4.000000    2.000000\n",
       "max     83.000000   69.000000        52.000000    2.000000"
      ]
     },
     "execution_count": 3,
     "metadata": {},
     "output_type": "execute_result"
    }
   ],
   "source": [
    "data.describe()"
   ]
  },
  {
   "cell_type": "markdown",
   "id": "f40b47be",
   "metadata": {},
   "source": [
    "## Central Tendency"
   ]
  },
  {
   "cell_type": "code",
   "execution_count": 4,
   "id": "13717548",
   "metadata": {},
   "outputs": [
    {
     "data": {
      "text/html": [
       "<div>\n",
       "<style scoped>\n",
       "    .dataframe tbody tr th:only-of-type {\n",
       "        vertical-align: middle;\n",
       "    }\n",
       "\n",
       "    .dataframe tbody tr th {\n",
       "        vertical-align: top;\n",
       "    }\n",
       "\n",
       "    .dataframe thead th {\n",
       "        text-align: right;\n",
       "    }\n",
       "</style>\n",
       "<table border=\"1\" class=\"dataframe\">\n",
       "  <thead>\n",
       "    <tr style=\"text-align: right;\">\n",
       "      <th></th>\n",
       "      <th>mean</th>\n",
       "      <th>median</th>\n",
       "      <th>mode</th>\n",
       "    </tr>\n",
       "  </thead>\n",
       "  <tbody>\n",
       "    <tr>\n",
       "      <th>Age</th>\n",
       "      <td>52.531148</td>\n",
       "      <td>52.0</td>\n",
       "      <td>52</td>\n",
       "    </tr>\n",
       "    <tr>\n",
       "      <th>Year</th>\n",
       "      <td>62.84918</td>\n",
       "      <td>63.0</td>\n",
       "      <td>58</td>\n",
       "    </tr>\n",
       "    <tr>\n",
       "      <th>Auxillary nodes</th>\n",
       "      <td>4.036066</td>\n",
       "      <td>1.0</td>\n",
       "      <td>0</td>\n",
       "    </tr>\n",
       "    <tr>\n",
       "      <th>Survival</th>\n",
       "      <td>1.265574</td>\n",
       "      <td>1.0</td>\n",
       "      <td>1</td>\n",
       "    </tr>\n",
       "  </tbody>\n",
       "</table>\n",
       "</div>"
      ],
      "text/plain": [
       "                      mean median mode\n",
       "Age              52.531148   52.0   52\n",
       "Year              62.84918   63.0   58\n",
       "Auxillary nodes   4.036066    1.0    0\n",
       "Survival          1.265574    1.0    1"
      ]
     },
     "execution_count": 4,
     "metadata": {},
     "output_type": "execute_result"
    }
   ],
   "source": [
    "# Including this table to be sure mode is in there.\n",
    "central_tendencies = dict()\n",
    "for col in data.columns:\n",
    "    central_tendencies[col] = {\n",
    "        'mean': data[col].mean(),\n",
    "        'median': data[col].median(),\n",
    "        'mode' : ', '.join(list(map(str, data[col].mode())))\n",
    "    }\n",
    "\n",
    "pd.DataFrame(central_tendencies).T"
   ]
  },
  {
   "cell_type": "markdown",
   "id": "0ffec41e",
   "metadata": {},
   "source": [
    "## Boxplots"
   ]
  },
  {
   "cell_type": "code",
   "execution_count": 5,
   "id": "6e5820bc",
   "metadata": {},
   "outputs": [
    {
     "data": {
      "image/png": "[encoded data removed]",
      "text/plain": [
       "<Figure size 432x288 with 1 Axes>"
      ]
     },
     "metadata": {
      "needs_background": "light"
     },
     "output_type": "display_data"
    }
   ],
   "source": [
    "_ = data.plot.box()"
   ]
  },
  {
   "cell_type": "code",
   "execution_count": 6,
   "id": "78a8a522",
   "metadata": {},
   "outputs": [
    {
     "data": {
      "text/plain": [
       "Age                0.158986\n",
       "Year               0.082021\n",
       "Auxillary nodes    2.977682\n",
       "Survival           1.066875\n",
       "dtype: float64"
      ]
     },
     "execution_count": 6,
     "metadata": {},
     "output_type": "execute_result"
    }
   ],
   "source": [
    "data.skew()"
   ]
  },
  {
   "cell_type": "markdown",
   "id": "973ead8b",
   "metadata": {},
   "source": [
    "I've decided to improve the skewness of **Auxillary nodes** rather than remove the outliers. The outliers of course appear to be the interesting numbers when the majority of records are zeros."
   ]
  },
  {
   "cell_type": "code",
   "execution_count": 7,
   "id": "83b31b29",
   "metadata": {},
   "outputs": [
    {
     "data": {
      "text/plain": [
       "1.0510341623699009"
      ]
     },
     "execution_count": 7,
     "metadata": {},
     "output_type": "execute_result"
    }
   ],
   "source": [
    "s = pd.Series((data['Auxillary nodes'].apply(lambda x: 0 if x == 0 else np.log(x))))\n",
    "s.skew()"
   ]
  },
  {
   "cell_type": "code",
   "execution_count": 8,
   "id": "ddde1331",
   "metadata": {},
   "outputs": [
    {
     "data": {
      "text/plain": [
       "<AxesSubplot:>"
      ]
     },
     "execution_count": 8,
     "metadata": {},
     "output_type": "execute_result"
    },
    {
     "data": {
      "image/png": "[encoded data removed]",
      "text/plain": [
       "<Figure size 432x288 with 1 Axes>"
      ]
     },
     "metadata": {
      "needs_background": "light"
     },
     "output_type": "display_data"
    }
   ],
   "source": [
    "# now there's only 3 outliers which I will leave in due to the skewness of the data.\n",
    "s.plot.box()"
   ]
  },
  {
   "cell_type": "code",
   "execution_count": 9,
   "id": "6bf7b39b",
   "metadata": {},
   "outputs": [
    {
     "name": "stdout",
     "output_type": "stream",
     "text": [
      "<class 'pandas.core.frame.DataFrame'>\n",
      "RangeIndex: 305 entries, 0 to 304\n",
      "Data columns (total 4 columns):\n",
      " #   Column           Non-Null Count  Dtype  \n",
      "---  ------           --------------  -----  \n",
      " 0   Age              305 non-null    int64  \n",
      " 1   Year             305 non-null    int64  \n",
      " 2   Survival         305 non-null    int64  \n",
      " 3   Auxillary nodes  305 non-null    float64\n",
      "dtypes: float64(1), int64(3)\n",
      "memory usage: 9.7 KB\n"
     ]
    }
   ],
   "source": [
    "prepared_data = data.drop(columns=['Auxillary nodes'])\n",
    "prepared_data['Auxillary nodes'] = s\n",
    "prepared_data.info()"
   ]
  },
  {
   "cell_type": "markdown",
   "id": "07b16785",
   "metadata": {},
   "source": [
    "## Correlation"
   ]
  },
  {
   "cell_type": "code",
   "execution_count": 10,
   "id": "280494d5",
   "metadata": {},
   "outputs": [
    {
     "data": {
      "text/html": [
       "<div>\n",
       "<style scoped>\n",
       "    .dataframe tbody tr th:only-of-type {\n",
       "        vertical-align: middle;\n",
       "    }\n",
       "\n",
       "    .dataframe tbody tr th {\n",
       "        vertical-align: top;\n",
       "    }\n",
       "\n",
       "    .dataframe thead th {\n",
       "        text-align: right;\n",
       "    }\n",
       "</style>\n",
       "<table border=\"1\" class=\"dataframe\">\n",
       "  <thead>\n",
       "    <tr style=\"text-align: right;\">\n",
       "      <th></th>\n",
       "      <th>Age</th>\n",
       "      <th>Year</th>\n",
       "      <th>Survival</th>\n",
       "      <th>Auxillary nodes</th>\n",
       "    </tr>\n",
       "  </thead>\n",
       "  <tbody>\n",
       "    <tr>\n",
       "      <th>Age</th>\n",
       "      <td>1.000000</td>\n",
       "      <td>0.092623</td>\n",
       "      <td>0.064351</td>\n",
       "      <td>-0.089596</td>\n",
       "    </tr>\n",
       "    <tr>\n",
       "      <th>Year</th>\n",
       "      <td>0.092623</td>\n",
       "      <td>1.000000</td>\n",
       "      <td>-0.004076</td>\n",
       "      <td>0.003803</td>\n",
       "    </tr>\n",
       "    <tr>\n",
       "      <th>Survival</th>\n",
       "      <td>0.064351</td>\n",
       "      <td>-0.004076</td>\n",
       "      <td>1.000000</td>\n",
       "      <td>0.336432</td>\n",
       "    </tr>\n",
       "    <tr>\n",
       "      <th>Auxillary nodes</th>\n",
       "      <td>-0.089596</td>\n",
       "      <td>0.003803</td>\n",
       "      <td>0.336432</td>\n",
       "      <td>1.000000</td>\n",
       "    </tr>\n",
       "  </tbody>\n",
       "</table>\n",
       "</div>"
      ],
      "text/plain": [
       "                      Age      Year  Survival  Auxillary nodes\n",
       "Age              1.000000  0.092623  0.064351        -0.089596\n",
       "Year             0.092623  1.000000 -0.004076         0.003803\n",
       "Survival         0.064351 -0.004076  1.000000         0.336432\n",
       "Auxillary nodes -0.089596  0.003803  0.336432         1.000000"
      ]
     },
     "execution_count": 10,
     "metadata": {},
     "output_type": "execute_result"
    }
   ],
   "source": [
    "# Running corr after skew transformation since it was a non-linear transform.\n",
    "prepared_data.corr()"
   ]
  },
  {
   "cell_type": "markdown",
   "id": "48f02ceb",
   "metadata": {},
   "source": [
    "<div style=\"background: #00386c; padding: 1.5rem 3rem 2rem; color: #FFF\">\n",
    "\n",
    "# Machine Learning\n",
    "    \n",
    "</div>"
   ]
  },
  {
   "cell_type": "markdown",
   "id": "eb27a7ea",
   "metadata": {},
   "source": [
    "\n",
    "2. Develop Supervised learning models. (50)\n",
    "    * [Logistic Regression](#Logistic-Regression)&darr;\n",
    "    * [Random Forest](#Random-Forest)&darr;\n",
    "    * [Support Vector Machine](#Support-Vector-Machine)&darr;\n",
    "    * [Neural Network](#Neural-Network)&darr;\n",
    "   \n",
    "   [Compare](#Fit-measuring)&darr; the 4 methods based on the performance metrics and identify the best model for this problem.\n",
    "   * Use 10-fold cross validation.\n",
    "   * Use GridSearchCV for searching through hyper parameters.\n",
    "3. Evaluate if the algorithms are overfitting? (10)\n",
    "    * <span style=\"color: #00386c\">Fits are evaulated on each model and available in a table in the [camparison section](#Comparison)&darr;. All came out to a good fit, but some work was done on the random forest to get it to not overfit. A parameter of cv=10 was added to the gridSearches to add 10 fold validation when searching for hyperparameters. This helped.</span>\n",
    "4. Develop a function which can implement [machine learning](#Machine-Learning-Function)&darr;. (20)\n",
    "```python\n",
    "def machine_learning(data,algorithm):\n",
    "    #code goes here\n",
    "    #plot ROC curve\n",
    "    return performance_metrics\n",
    "```\n",
    "Function call: machine_learning(data, neural_network)"
   ]
  },
  {
   "cell_type": "code",
   "execution_count": 11,
   "id": "e0dd1329",
   "metadata": {},
   "outputs": [],
   "source": [
    "import matplotlib.pyplot as plt\n",
    "\n",
    "from sklearn.pipeline import Pipeline\n",
    "from sklearn.model_selection import train_test_split, KFold, GridSearchCV\n",
    "from sklearn.preprocessing import StandardScaler, MinMaxScaler, RobustScaler\n",
    "from sklearn.metrics import roc_auc_score, plot_roc_curve # Area Under Curve \n",
    "from sklearn.linear_model import LogisticRegression\n",
    "from sklearn.ensemble import RandomForestClassifier\n",
    "from sklearn.svm import SVC # Support Vector Machine\n",
    "from sklearn.neural_network import MLPClassifier # Neural Network\n",
    "from sklearn.metrics import classification_report, confusion_matrix, ConfusionMatrixDisplay"
   ]
  },
  {
   "cell_type": "markdown",
   "id": "ac7507a5",
   "metadata": {},
   "source": [
    "## Fit measuring\n",
    "with 10 fold cross-validation"
   ]
  },
  {
   "cell_type": "code",
   "execution_count": 12,
   "id": "49561a7c",
   "metadata": {},
   "outputs": [],
   "source": [
    "def is_good_fit(data, clf, n_splits=10, epsilon=0.10, label_column='Survival', random_state=10):\n",
    "    X = prepared_data.drop(columns=[label_column])\n",
    "    y = prepared_data[label_column]\n",
    "    X_train, X_test, y_train, y_test = train_test_split(X, y, random_state = random_state, train_size = 0.6)\n",
    "    \n",
    "    kf = KFold(n_splits=n_splits)\n",
    "    scores = []\n",
    "    for iteration, (train_indices, test_indices) in enumerate(kf.split(X_train), 1):\n",
    "        X_train_slice, y_train_slice = X_train.iloc[train_indices], y_train.iloc[train_indices]\n",
    "        X_test_slice, y_test_slice = X_train.iloc[test_indices], y_train.iloc[test_indices]\n",
    "        clf.fit(X_train_slice, y_train_slice)\n",
    "        scores.append(clf.score(X_test_slice, y_test_slice))\n",
    "    clf.fit(X_train, y_train)\n",
    "    full_score = clf.score(X_test, y_test)\n",
    "    \n",
    "    #MATH\n",
    "    avg_fold_score = np.mean(scores)\n",
    "    good_fit = abs(avg_fold_score - full_score) < epsilon\n",
    "    if good_fit:\n",
    "        print('This model is well fit')\n",
    "    else:\n",
    "        print('This model is not well fit')"
   ]
  },
  {
   "cell_type": "markdown",
   "id": "9439e599",
   "metadata": {},
   "source": [
    "## Machine Learning Function"
   ]
  },
  {
   "cell_type": "code",
   "execution_count": 13,
   "id": "bdd1765b",
   "metadata": {},
   "outputs": [],
   "source": [
    "def machine_learning(data, algorithm, label_column='Survival', random_state=10):\n",
    "    X = prepared_data.drop(columns=[label_column])\n",
    "    y = prepared_data[label_column]\n",
    "    X_train, X_test, y_train, y_test = train_test_split(X, y, random_state = random_state, train_size = 0.6)\n",
    "    \n",
    "    algorithm.fit(X_train, y_train)\n",
    "    y_pred = algorithm.predict(X_test)\n",
    "    plot_roc_curve(algorithm, X_test, y_test)\n",
    "    cr = classification_report(y_test, y_pred, labels = algorithm.classes_)\n",
    "    cm = confusion_matrix(y_test, y_pred, labels = algorithm.classes_)\n",
    "    return cr, cm"
   ]
  },
  {
   "cell_type": "markdown",
   "id": "20fe3154",
   "metadata": {},
   "source": [
    "## Constants"
   ]
  },
  {
   "cell_type": "code",
   "execution_count": 14,
   "id": "8520a69a",
   "metadata": {},
   "outputs": [],
   "source": [
    "labels = [\"Survived\", \"Died\"]\n",
    "random_state = 10\n",
    "minMaxScaler = MinMaxScaler()\n",
    "standardScaler = StandardScaler()\n",
    "robustScaler = RobustScaler()\n",
    "# prepared_data already in environment\n",
    "#X = scaleDF(prepared_data.drop(columns=['Survival']), MinMaxScaler)\n",
    "X = prepared_data.drop(columns=['Survival'])\n",
    "y = prepared_data['Survival']\n",
    "\n",
    "X_train, X_test, y_train, y_test = train_test_split(X, y, random_state = random_state, train_size = 0.6)"
   ]
  },
  {
   "cell_type": "markdown",
   "id": "ad5c1d06",
   "metadata": {},
   "source": [
    "## Logistic Regression\n",
    "\n",
    "The GridSearch process doesn't cooperate well with the kFold best fit. The combination makes a lot of time be spent. I ran GridSearch for each algorithm and got the best values. Then, I turned it off."
   ]
  },
  {
   "cell_type": "code",
   "execution_count": 15,
   "id": "a1453bc0",
   "metadata": {},
   "outputs": [
    {
     "name": "stdout",
     "output_type": "stream",
     "text": [
      "              precision    recall  f1-score   support\n",
      "\n",
      "           1       0.84      0.87      0.85        97\n",
      "           2       0.41      0.36      0.38        25\n",
      "\n",
      "    accuracy                           0.76       122\n",
      "   macro avg       0.62      0.61      0.62       122\n",
      "weighted avg       0.75      0.76      0.76       122\n",
      "\n",
      "This model is well fit\n"
     ]
    },
    {
     "data": {
      "text/plain": [
       "<sklearn.metrics._plot.confusion_matrix.ConfusionMatrixDisplay at 0x7f9ba392a4c0>"
      ]
     },
     "execution_count": 15,
     "metadata": {},
     "output_type": "execute_result"
    },
    {
     "data": {
      "image/png": "[encoded data removed]",
      "text/plain": [
       "<Figure size 432x288 with 1 Axes>"
      ]
     },
     "metadata": {
      "needs_background": "light"
     },
     "output_type": "display_data"
    },
    {
     "data": {
      "image/png": "[encoded data removed]",
      "text/plain": [
       "<Figure size 432x288 with 2 Axes>"
      ]
     },
     "metadata": {
      "needs_background": "light"
     },
     "output_type": "display_data"
    }
   ],
   "source": [
    "# Logistic Regression\n",
    "\n",
    "# Defining and training the model\n",
    "# clf_parameters = {\n",
    "#     'logistic__solver': ['liblinear', 'saga'], #not dealing with multiclass problem so liblinear should be fine.\n",
    "#     'logistic__penalty':['l2', 'l1'],\n",
    "#     'logistic__C': [100, 10, 1.0, .1, .01],\n",
    "#     'logistic__max_iter': [1000],\n",
    "# }\n",
    "\n",
    "clf_final_parameters = {\n",
    "    'C': 1.0,\n",
    "    'max_iter': 1000,\n",
    "    'penalty': 'l2',\n",
    "    'solver': 'saga'\n",
    "}\n",
    "\n",
    "clf_pipe = Pipeline(steps=[\n",
    "    ('scaler', standardScaler),\n",
    "    ('logistic', LogisticRegression(random_state = random_state, **clf_final_parameters))\n",
    "])\n",
    "# clf_search = GridSearchCV(clf_pipe, clf_parameters, cv=10)\n",
    "cr, cm = machine_learning(prepared_data, clf_pipe)\n",
    "# print(clf_search.best_params_)\n",
    "print(cr)\n",
    "is_good_fit(prepared_data, clf_pipe)\n",
    "ConfusionMatrixDisplay(confusion_matrix = cm, display_labels = labels).plot()\n"
   ]
  },
  {
   "cell_type": "markdown",
   "id": "c647bf84",
   "metadata": {},
   "source": [
    "## Random Forest"
   ]
  },
  {
   "cell_type": "code",
   "execution_count": 16,
   "id": "59aa3637",
   "metadata": {},
   "outputs": [
    {
     "name": "stdout",
     "output_type": "stream",
     "text": [
      "              precision    recall  f1-score   support\n",
      "\n",
      "           1       0.83      0.91      0.87        97\n",
      "           2       0.44      0.28      0.34        25\n",
      "\n",
      "    accuracy                           0.78       122\n",
      "   macro avg       0.63      0.59      0.60       122\n",
      "weighted avg       0.75      0.78      0.76       122\n",
      "\n",
      "This model is well fit\n"
     ]
    },
    {
     "data": {
      "text/plain": [
       "<sklearn.metrics._plot.confusion_matrix.ConfusionMatrixDisplay at 0x7f9ba480aa00>"
      ]
     },
     "execution_count": 16,
     "metadata": {},
     "output_type": "execute_result"
    },
    {
     "data": {
      "image/png": "[encoded data removed]",
      "text/plain": [
       "<Figure size 432x288 with 1 Axes>"
      ]
     },
     "metadata": {
      "needs_background": "light"
     },
     "output_type": "display_data"
    },
    {
     "data": {
      "image/png": "[encoded data removed]",
      "text/plain": [
       "<Figure size 432x288 with 2 Axes>"
      ]
     },
     "metadata": {
      "needs_background": "light"
     },
     "output_type": "display_data"
    }
   ],
   "source": [
    "# Developing and fitting the random forest algorithm\n",
    "# rf_parameters = {\n",
    "#     'rf__max_features': [1, 2, 3],\n",
    "#     'rf__n_estimators':[10, 100, 1000],\n",
    "#     'rf__max_depth': [None, 3, 5, 10, 50],\n",
    "#     'rf__min_samples_leaf': [1, 2, 3, 4]\n",
    "# }\n",
    "rf_final_params = {\n",
    "    'max_depth': 3, \n",
    "    'max_features': 2, \n",
    "    'min_samples_leaf': 2, \n",
    "    'n_estimators': 10\n",
    "}\n",
    "rf_pipe = Pipeline(steps=[\n",
    "    ('scaler', standardScaler),\n",
    "    ('rf', RandomForestClassifier(random_state = random_state, **rf_final_params))\n",
    "])\n",
    "# rf_search = GridSearchCV(rf_pipe, rf_parameters, cv=10, n_jobs=4)\n",
    "cr, cm = machine_learning(prepared_data, rf_pipe)\n",
    "# print(rf_search.best_params_)\n",
    "print(cr)\n",
    "is_good_fit(prepared_data, rf_pipe)\n",
    "ConfusionMatrixDisplay(confusion_matrix = cm, display_labels = labels).plot()\n"
   ]
  },
  {
   "cell_type": "markdown",
   "id": "0bb52600",
   "metadata": {},
   "source": [
    "## Neural Network"
   ]
  },
  {
   "cell_type": "code",
   "execution_count": 17,
   "id": "5855e647",
   "metadata": {},
   "outputs": [
    {
     "name": "stdout",
     "output_type": "stream",
     "text": [
      "              precision    recall  f1-score   support\n",
      "\n",
      "           1       0.85      0.87      0.86        97\n",
      "           2       0.43      0.40      0.42        25\n",
      "\n",
      "    accuracy                           0.77       122\n",
      "   macro avg       0.64      0.63      0.64       122\n",
      "weighted avg       0.76      0.77      0.77       122\n",
      "\n",
      "This model is well fit\n"
     ]
    },
    {
     "data": {
      "text/plain": [
       "<sklearn.metrics._plot.confusion_matrix.ConfusionMatrixDisplay at 0x7f9b70089160>"
      ]
     },
     "execution_count": 17,
     "metadata": {},
     "output_type": "execute_result"
    },
    {
     "data": {
      "image/png": "[encoded data removed]",
      "text/plain": [
       "<Figure size 432x288 with 1 Axes>"
      ]
     },
     "metadata": {
      "needs_background": "light"
     },
     "output_type": "display_data"
    },
    {
     "data": {
      "image/png": "[encoded data removed]",
      "text/plain": [
       "<Figure size 432x288 with 2 Axes>"
      ]
     },
     "metadata": {
      "needs_background": "light"
     },
     "output_type": "display_data"
    }
   ],
   "source": [
    "# Developing and fitting the Neural Network\n",
    "# parameters = {\n",
    "#     'nn__hidden_layer_sizes':[\n",
    "#         None,\n",
    "#         (2,), (3,), (4,),\n",
    "#         (2,2), (2,3), (2, 4),\n",
    "#         (3,2), (3,3), (3,4),\n",
    "#         (4,2), (4,3), (4,4),  \n",
    "#     ],\n",
    "#     'nn__solver':['lbfgs', 'adam'],\n",
    "#     #'learning_rate': ['constant', 'invscaling', 'adaptive'],\n",
    "#     'nn__learning_rate_init': [.01],\n",
    "#     'nn__activation': ['relu'],\n",
    "#     'nn__max_iter': [1000],\n",
    "#     'nn__alpha': [.0001]\n",
    "# }\n",
    "\n",
    "\n",
    "\n",
    "nn_final_params = {\n",
    "    'activation': 'relu',\n",
    "    'alpha': 0.0001,\n",
    "    'hidden_layer_sizes': (4,),\n",
    "    'learning_rate_init': 0.01,\n",
    "    'max_iter': 1000,\n",
    "    'solver': 'adam'\n",
    "}\n",
    "\n",
    "nn_pipe = Pipeline(steps=[\n",
    "    ('scaler', standardScaler),\n",
    "    ('nn', MLPClassifier(random_state=random_state, **nn_final_params))\n",
    "])\n",
    "\n",
    "# nn_search = GridSearchCV(nn_pipe, parameters, cv=10)\n",
    "cr, cm = machine_learning(prepared_data, nn_pipe)\n",
    "# print(nn_search.best_params_)\n",
    "print(cr)\n",
    "is_good_fit(prepared_data, nn_pipe)\n",
    "ConfusionMatrixDisplay(confusion_matrix = cm, display_labels = labels).plot()\n"
   ]
  },
  {
   "cell_type": "markdown",
   "id": "c464cc78",
   "metadata": {},
   "source": [
    "## Support Vector Machine"
   ]
  },
  {
   "cell_type": "code",
   "execution_count": 18,
   "id": "f8d1d523",
   "metadata": {},
   "outputs": [
    {
     "name": "stdout",
     "output_type": "stream",
     "text": [
      "              precision    recall  f1-score   support\n",
      "\n",
      "           1       0.85      0.85      0.85        97\n",
      "           2       0.42      0.44      0.43        25\n",
      "\n",
      "    accuracy                           0.76       122\n",
      "   macro avg       0.64      0.64      0.64       122\n",
      "weighted avg       0.77      0.76      0.76       122\n",
      "\n",
      "This model is well fit\n"
     ]
    },
    {
     "data": {
      "text/plain": [
       "<sklearn.metrics._plot.confusion_matrix.ConfusionMatrixDisplay at 0x7f9b808223d0>"
      ]
     },
     "execution_count": 18,
     "metadata": {},
     "output_type": "execute_result"
    },
    {
     "data": {
      "image/png": "[encoded data removed]",
      "text/plain": [
       "<Figure size 432x288 with 1 Axes>"
      ]
     },
     "metadata": {
      "needs_background": "light"
     },
     "output_type": "display_data"
    },
    {
     "data": {
      "image/png": "[encoded data removed]",
      "text/plain": [
       "<Figure size 432x288 with 2 Axes>"
      ]
     },
     "metadata": {
      "needs_background": "light"
     },
     "output_type": "display_data"
    }
   ],
   "source": [
    "# Developing and fitting the Support Vector Machine\n",
    "# parameters = {\n",
    "#     'svm__kernel':['linear', 'rbf'],\n",
    "#     'svm__C':[100, 10, 1, 0.1, 0.01, 0.001],\n",
    "#     #'svm__degree': [2, 3],\n",
    "# }\n",
    "svm_final_params = {'C': 100, 'kernel': 'linear'}\n",
    "svm_pipe = Pipeline(steps=[\n",
    "    ('scaler', robustScaler),\n",
    "    ('svm', SVC(random_state = random_state, **svm_final_params))\n",
    "])\n",
    "# svm_search = GridSearchCV(svm_pipe, parameters, cv=10, n_jobs=8)\n",
    "cr, cm = machine_learning(data, svm_pipe)\n",
    "# print(svm_search.best_params_)\n",
    "print(cr)\n",
    "is_good_fit(prepared_data, svm_pipe)\n",
    "ConfusionMatrixDisplay(confusion_matrix = cm, display_labels = labels).plot()"
   ]
  },
  {
   "cell_type": "markdown",
   "id": "d931769f",
   "metadata": {},
   "source": [
    "## Comparison\n",
    "\n",
    "We're trying to increase the precision of Survival predictions(1) and the recall of non-Survival predictions. We're less worried about be people that will survive and are predicted to die when survival of the most people is the goal.\n",
    "\n",
    "| |Precision of 1 |Recall of 2 |Fit|\n",
    "|:---|:---:|:---:|---|\n",
    "|Logistic  |0.84  |0.36  |✔|\n",
    "|Random Forest  |0.83 |0.28  |✔|\n",
    "|Neural Network  |0.85  |0.40  |✔ |\n",
    "|SVM  |0.85  |0.44  |✔ |\n",
    "\n",
    "Looks like the SVM Model wins out."
   ]
  }
 ],
 "metadata": {
  "kernelspec": {
   "display_name": "Python 3 (ipykernel)",
   "language": "python",
   "name": "python3"
  },
  "language_info": {
   "codemirror_mode": {
    "name": "ipython",
    "version": 3
   },
   "file_extension": ".py",
   "mimetype": "text/x-python",
   "name": "python",
   "nbconvert_exporter": "python",
   "pygments_lexer": "ipython3",
   "version": "3.9.7"
  }
 },
 "nbformat": 4,
 "nbformat_minor": 5
}
