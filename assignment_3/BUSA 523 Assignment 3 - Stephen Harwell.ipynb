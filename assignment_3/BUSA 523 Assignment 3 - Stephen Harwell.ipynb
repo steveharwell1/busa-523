{
 "cells": [
  {
   "cell_type": "markdown",
   "id": "462fb141",
   "metadata": {},
   "source": [
    "# Stephen Harwell - Assignment 3"
   ]
  },
  {
   "cell_type": "code",
   "execution_count": 1,
   "id": "a9a2a54b",
   "metadata": {},
   "outputs": [],
   "source": [
    "import unittest"
   ]
  },
  {
   "cell_type": "markdown",
   "id": "fa4a7f4b",
   "metadata": {},
   "source": [
    "## Question 1\n",
    "Create a class to store student records. Each student has a first name, last name, country, overall grade (0 - 4.0 scale), credits completed (total 30) and major. Create a method within this class to evaluate student progress. (20)\n",
    "\n",
    "    a. Progress - “Good”: if grades are above 3.0 and credits completed is greater than 20\n",
    "    b. Progress - “Average”: if grades are above 2.5 or credits completed is between 10 and 20\n",
    "    c. Progress - “Poor”: if grades are below 2.5"
   ]
  },
  {
   "cell_type": "code",
   "execution_count": 2,
   "id": "3cd3ac3e",
   "metadata": {},
   "outputs": [
    {
     "data": {
      "text/plain": [
       "'Average'"
      ]
     },
     "execution_count": 2,
     "metadata": {},
     "output_type": "execute_result"
    }
   ],
   "source": [
    "class Student:\n",
    "    '''Class that holds a student record. Only grade and credits are required.'''\n",
    "    \n",
    "    def __init__(self, grade, credits, first_name='', last_name='', country='USA', major=''):\n",
    "        '''\n",
    "        Setup all class attributes\n",
    "        A simple class like this may be a candidate for a dataclass\n",
    "        https://docs.python.org/3/library/dataclasses.html\n",
    "        '''\n",
    "        if grade < 0 or grade > 4:\n",
    "            #  overall grade (0 - 4.0 scale)\n",
    "            raise ValueError('Grades must be in [0.0, 4.0]')\n",
    "        if credits < 0 or credits > 30:\n",
    "            # credits completed (total 30)\n",
    "            raise ValueError('Credits must be in [0,30]')\n",
    "        self.first_name = first_name\n",
    "        self.last_name = last_name\n",
    "        self.country = country\n",
    "        self.grade = grade\n",
    "        self.credits = credits\n",
    "        self.major = major\n",
    "    \n",
    "    def progress(self):\n",
    "        '''Returns a string based on the student's GPA and Credits'''\n",
    "        if self.grade > 3.0 and self.credits > 20:\n",
    "            # Progress - “Good”: if grades are above 3.0 and credits completed is greater than 20\n",
    "            return 'Good'\n",
    "        elif self.grade > 2.5 or (10 < self.credits and self.credits < 20):\n",
    "            # Progress - “Average”: if grades are above 2.5 or credits completed is between 10 and 20\n",
    "            return 'Average'\n",
    "        elif self.grade < 2.5:\n",
    "            # Progress - “Good”: if grades are below 2.5\n",
    "            return 'Poor'\n",
    "        else: \n",
    "            return 'Undetermined'\n",
    "student = Student(3.0, 10)\n",
    "student.progress()"
   ]
  },
  {
   "cell_type": "code",
   "execution_count": 3,
   "id": "6e9889f5",
   "metadata": {},
   "outputs": [
    {
     "name": "stderr",
     "output_type": "stream",
     "text": [
      "test_credits_raises_when_out_of_bounds (__main__.TestStudent) ... ok\n",
      "test_grade_raises_when_out_of_bounds (__main__.TestStudent) ... ok\n",
      "test_student_progress_is_average (__main__.TestStudent) ... ok\n",
      "test_student_progress_is_good (__main__.TestStudent) ... ok\n",
      "test_student_progress_is_poor (__main__.TestStudent) ... ok\n",
      "test_student_progress_is_undetermined (__main__.TestStudent) ... ok\n",
      "\n",
      "----------------------------------------------------------------------\n",
      "Ran 6 tests in 0.002s\n",
      "\n",
      "OK\n"
     ]
    },
    {
     "data": {
      "text/plain": [
       "<unittest.main.TestProgram at 0x7f9d28470af0>"
      ]
     },
     "execution_count": 3,
     "metadata": {},
     "output_type": "execute_result"
    }
   ],
   "source": [
    "class TestStudent(unittest.TestCase):\n",
    "    '''Runs tests on the student class.'''\n",
    "    \n",
    "    def test_student_progress_is_good(self):\n",
    "        student = Student(4.0, 30)\n",
    "        self.assertEqual('Good', student.progress())\n",
    "        \n",
    "    def test_student_progress_is_average(self):\n",
    "        student = Student(2.6, 11)\n",
    "        self.assertEqual('Average', student.progress(),\n",
    "                         msg=\"Test lower bound of credits.\")\n",
    "        \n",
    "        student = Student(4.0, 19)\n",
    "        self.assertEqual('Average', student.progress(),\n",
    "                         msg=\"Test upper bound of credits, and gpa outside bounds\")\n",
    "        \n",
    "        student = Student(2.6, 21)\n",
    "        self.assertEqual('Average', student.progress(), \n",
    "                        msg=\"Test credits out of bounds, but gpa in bounds\")\n",
    "        \n",
    "        student = Student(2.4, 11)\n",
    "        self.assertEqual('Average', student.progress(),\n",
    "                        msg='Test gpa out of bounds, but credits in bounds')\n",
    "        \n",
    "        student = Student(2.6, 5)\n",
    "        self.assertEqual('Average', student.progress(),\n",
    "                        msg=\"Test credits too low, but gpa in bounds.\")\n",
    "    \n",
    "    def test_student_progress_is_poor(self):\n",
    "        student = Student(2.4, 30)\n",
    "        self.assertEqual('Poor', student.progress())\n",
    "        \n",
    "    def test_student_progress_is_undetermined(self):\n",
    "        student = Student(2.5, 30)\n",
    "        self.assertEqual('Undetermined', student.progress())\n",
    "        \n",
    "    def test_grade_raises_when_out_of_bounds(self):\n",
    "        with self.assertRaises(ValueError):\n",
    "            student = Student(5, 15)\n",
    "        with self.assertRaises(ValueError):\n",
    "            student = Student(-1, 15)\n",
    "        \n",
    "    def test_credits_raises_when_out_of_bounds(self):\n",
    "        with self.assertRaises(ValueError):\n",
    "            student = Student(2.5, 50)\n",
    "        with self.assertRaises(ValueError):\n",
    "            student = Student(2.5, -1)\n",
    " \n",
    "unittest.main(TestStudent(), argv=[''], verbosity=2, exit=False)\n"
   ]
  },
  {
   "cell_type": "markdown",
   "id": "28f28829",
   "metadata": {},
   "source": [
    "## Question 2\n",
    "\n",
    "Write a function which separates the positive and negative numbers from a\n",
    "list of numbers. (20)\n",
    "\n",
    "Input: \n",
    "```[-6, 5, -3, -2, 1, 0, -8, 9, 3]```\n",
    "\n",
    "Output:\n",
    "```[-6, -3, -2, -8], [5, 1, 9, 3]```"
   ]
  },
  {
   "cell_type": "code",
   "execution_count": 4,
   "id": "853ffb8f",
   "metadata": {},
   "outputs": [
    {
     "data": {
      "text/plain": [
       "([-6, -3, -2, -8], [5, 1, 9, 3])"
      ]
     },
     "execution_count": 4,
     "metadata": {},
     "output_type": "execute_result"
    }
   ],
   "source": [
    "def split_positives_and_negatives(arr):\n",
    "    '''\n",
    "    Splits an array of numbers into two arrays.\n",
    "    The first will be composed of negatives and the second will have positives.\n",
    "    '''\n",
    "    positives = [x for x in arr if x > 0]\n",
    "    negatives = [x for x in arr if x < 0]\n",
    "    return negatives, positives\n",
    "\n",
    "split_positives_and_negatives([-6, 5, -3, -2, 1, 0, -8, 9, 3])"
   ]
  },
  {
   "cell_type": "code",
   "execution_count": 5,
   "id": "37f963f1",
   "metadata": {},
   "outputs": [
    {
     "name": "stderr",
     "output_type": "stream",
     "text": [
      "test_empty_list (__main__.TestIntListSplitter) ... ok\n",
      "test_given_test_case (__main__.TestIntListSplitter) ... ok\n",
      "test_mixed_values (__main__.TestIntListSplitter) ... ok\n",
      "test_only_negative (__main__.TestIntListSplitter) ... ok\n",
      "test_only_positive (__main__.TestIntListSplitter) ... ok\n",
      "test_zero_is_removed (__main__.TestIntListSplitter) ... ok\n",
      "\n",
      "----------------------------------------------------------------------\n",
      "Ran 6 tests in 0.002s\n",
      "\n",
      "OK\n"
     ]
    },
    {
     "data": {
      "text/plain": [
       "<unittest.main.TestProgram at 0x7f9d2846ee80>"
      ]
     },
     "execution_count": 5,
     "metadata": {},
     "output_type": "execute_result"
    }
   ],
   "source": [
    "class TestIntListSplitter(unittest.TestCase):\n",
    "    '''Tests the function split_positives_and_negatives'''\n",
    "    \n",
    "    def test_mixed_values(self):\n",
    "        self.assertEqual(([-1], [1]), split_positives_and_negatives([-1, 1]))\n",
    "        \n",
    "    def test_only_positive(self):\n",
    "        self.assertEqual(([], [2, 1]), split_positives_and_negatives([2, 1]))\n",
    "        \n",
    "    def test_only_negative(self):\n",
    "        self.assertEqual(([-4, -1], []), split_positives_and_negatives([-4, -1]))\n",
    "    \n",
    "    def test_empty_list(self):\n",
    "        self.assertEqual(([], []), split_positives_and_negatives([]))\n",
    "\n",
    "    def test_zero_is_removed(self):\n",
    "        pos, neg = split_positives_and_negatives([2, 1, 8, 0, 0, 7])\n",
    "        self.assertTrue(0 not in pos, msg=\"Test zero is not in positives\")\n",
    "        self.assertTrue(0 not in neg, msg=\"Test zero is not in negatives\")\n",
    "    \n",
    "    def test_given_test_case(self):\n",
    "        val = split_positives_and_negatives([-6, 5, -3, -2, 1, 0, -8, 9, 3])\n",
    "        self.assertEqual(([-6, -3, -2, -8], [5, 1, 9, 3]), val)\n",
    "        \n",
    "\n",
    "unittest.main(TestIntListSplitter(), argv=[''], verbosity=2, exit=False)"
   ]
  },
  {
   "cell_type": "markdown",
   "id": "e08a90be",
   "metadata": {},
   "source": [
    "## Question 3\n",
    "Write a function which outputs all winning possibilities for a given player’s score.\n",
    "Assume the score is always greater than 15 and the dealer is dealt only 2 cards. (40)\n",
    "\n",
    "Input - ```18``` (player’s final score)\n",
    "\n",
    "Output - ```[(9,10), (10,11), (10,10), (11,9), (11,8)]```\n",
    "\n",
    "Notes:\n",
    " - No need to specify face cards separately, you can use the value “10”\n",
    " - (11,11) is not a winning combination\n",
    " \n",
    "https://u.osu.edu/sdp12d1/user-manual/ (BlackJack - rules)"
   ]
  },
  {
   "cell_type": "code",
   "execution_count": 6,
   "id": "a899650e",
   "metadata": {},
   "outputs": [
    {
     "data": {
      "text/plain": [
       "[(8, 11), (9, 10), (9, 11), (10, 10), (10, 11)]"
      ]
     },
     "execution_count": 6,
     "metadata": {},
     "output_type": "execute_result"
    }
   ],
   "source": [
    "from itertools import combinations_with_replacement as cwr\n",
    "\n",
    "def winning_possibilities(player_score):\n",
    "    if player_score < 16 or player_score > 21:\n",
    "        raise ValueError('Player score must be in [16, 21]')\n",
    "    return [x for x in cwr(range(1,12), 2) if player_score < x[0] + x[1] and x[0] + x[1] < 22]\n",
    "\n",
    "winning_possibilities(18)"
   ]
  },
  {
   "cell_type": "code",
   "execution_count": 7,
   "id": "42c0cc79",
   "metadata": {},
   "outputs": [
    {
     "name": "stderr",
     "output_type": "stream",
     "text": [
      "test_given_test_case (__main__.TestWinningPossibilities) ... ok\n",
      "test_player_cant_lost (__main__.TestWinningPossibilities) ... ok\n",
      "test_score_raises_when_out_of_bounds (__main__.TestWinningPossibilities) ... ok\n",
      "test_two_elevens_not_in_list (__main__.TestWinningPossibilities) ... ok\n",
      "\n",
      "----------------------------------------------------------------------\n",
      "Ran 4 tests in 0.001s\n",
      "\n",
      "OK\n"
     ]
    },
    {
     "data": {
      "text/plain": [
       "<unittest.main.TestProgram at 0x7f9d28473bb0>"
      ]
     },
     "execution_count": 7,
     "metadata": {},
     "output_type": "execute_result"
    }
   ],
   "source": [
    "class TestWinningPossibilities(unittest.TestCase):\n",
    "    '''Tests the function winning_possibilities'''\n",
    "    \n",
    "    def test_given_test_case(self):\n",
    "        self.assertEqual(\n",
    "            # I modified the given test case to have the smallest int\n",
    "            # as the 0th item in each tuple.\n",
    "            sorted([(9,10), (10,11), (10,10), (9,11), (8,11)]),\n",
    "            sorted(winning_possibilities(18))\n",
    "        )\n",
    "    \n",
    "    def test_two_elevens_not_in_list(self):\n",
    "        self.assertTrue((11, 11) not in winning_possibilities(18))\n",
    "    \n",
    "    def test_player_cant_lost(self):\n",
    "        self.assertEqual([], winning_possibilities(21))\n",
    "        \n",
    "    def test_score_raises_when_out_of_bounds(self):\n",
    "        self.assertRaises(ValueError, winning_possibilities, 15)\n",
    "        self.assertRaises(ValueError, winning_possibilities, 31)\n",
    "        \n",
    "        \n",
    "        \n",
    "\n",
    "unittest.main(TestWinningPossibilities(), argv=[''], verbosity=2, exit=False)"
   ]
  },
  {
   "cell_type": "markdown",
   "id": "320a4878",
   "metadata": {},
   "source": [
    "## Question 4\n",
    "Calculate the number of steps & Big O order for the programs in question 2 and 3.\n",
    "\n",
    "### Steps and Big O for question 2\n",
    "My function has two $n$ steps. One for each array that is output.\n",
    "\n",
    "$O(2n) = O(n)$\n",
    "\n",
    "### Steps and Big O for question 3\n",
    "The function performs the same number of comparisons regardless of the input $n$. It also always has the same max size of output array.\n",
    "Which is ${11 \\choose 2} + 11 = 66$ comparisons.\n",
    "\n",
    "$O(66) = O(1)$\n",
    "\n",
    "What is more interesting is if the rules of blackjack were modified to allow higher card values $m$ and corresponding bust limits. The number of comparisons will still not vary with the player score, but will vary with the max card value.\n",
    "\n",
    "$O\\left({m \\choose 2} + m\\right) = O\\left(\\frac{m(m-1)}{2} + m\\right) = O(m^2)$\n"
   ]
  }
 ],
 "metadata": {
  "kernelspec": {
   "display_name": "Python 3 (ipykernel)",
   "language": "python",
   "name": "python3"
  },
  "language_info": {
   "codemirror_mode": {
    "name": "ipython",
    "version": 3
   },
   "file_extension": ".py",
   "mimetype": "text/x-python",
   "name": "python",
   "nbconvert_exporter": "python",
   "pygments_lexer": "ipython3",
   "version": "3.9.7"
  }
 },
 "nbformat": 4,
 "nbformat_minor": 5
}
