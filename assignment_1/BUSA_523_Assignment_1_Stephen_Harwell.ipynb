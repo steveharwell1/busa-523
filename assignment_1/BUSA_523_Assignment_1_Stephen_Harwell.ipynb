{
 "cells": [
  {
   "cell_type": "markdown",
   "id": "5b40bf31",
   "metadata": {},
   "source": [
    "# Assignment 1 | Stephen Harwell"
   ]
  },
  {
   "cell_type": "markdown",
   "id": "41a0fa68",
   "metadata": {},
   "source": [
    "## Problem 1"
   ]
  },
  {
   "cell_type": "code",
   "execution_count": null,
   "id": "7d4837a6",
   "metadata": {},
   "outputs": [],
   "source": [
    "from random import randint, choice as rand_elem\n",
    "\n",
    "UPPER = 20\n",
    "TRIES = 5\n",
    "\n",
    "secret_num = randint(1, UPPER)\n",
    "\n",
    "print(f'Guess the secret number between 1 and {UPPER}.\\n')\n",
    "\n",
    "for x in range(TRIES):\n",
    "    guess = input(\"Enter your guess. \")\n",
    "    \n",
    "    try:\n",
    "        guess = int(guess)\n",
    "    except:\n",
    "        print('\\tThis did not appear to be a number.')\n",
    "        continue\n",
    "\n",
    "    if guess == secret_num:\n",
    "        print(f'\\tYou guessed the correct number {secret_num}!')\n",
    "        break\n",
    "    elif (x + 1 < TRIES):\n",
    "        print(f'\\tGuess again. {guess} wasn\\'t the correct number.')\n",
    "    else:\n",
    "        pass\n",
    "else: # This is not an often used feature. It is an else statement to the for loop.\n",
    "    print(f'\\tSorry, you weren\\'t able to guess { secret_num } in {TRIES} tries.')\n",
    "    "
   ]
  },
  {
   "cell_type": "markdown",
   "id": "8bbed9c4",
   "metadata": {},
   "source": [
    "## Problem 2"
   ]
  },
  {
   "cell_type": "code",
   "execution_count": null,
   "id": "c120ce2f",
   "metadata": {},
   "outputs": [],
   "source": [
    "from random import randint, choice as rand_elem\n",
    "\n",
    "UPPER = 20\n",
    "TRIES = 5\n",
    "\n",
    "secret_num = randint(1, UPPER)\n",
    "\n",
    "print(f'Guess the secret number between 1 and {UPPER}.\\n')\n",
    "\n",
    "for x in range(TRIES):\n",
    "    guess = input(\"Enter your guess. \")\n",
    "    \n",
    "    try:\n",
    "        guess = int(guess)\n",
    "    except:\n",
    "        print('\\tThis did not appear to be a number.')\n",
    "        continue\n",
    "\n",
    "    if guess == secret_num:\n",
    "        print(f'\\tYou guessed the correct number {secret_num}!')\n",
    "        break\n",
    "    elif (x + 1 < TRIES and guess < secret_num):\n",
    "        print(f'\\tGuess again. {guess} is less than the secret number.')\n",
    "    elif (x + 1 < TRIES and guess > secret_num):\n",
    "        print(f'\\tGuess again. {guess} is greater than the secret number.')\n",
    "else:\n",
    "    print(f'\\tSorry, you weren\\'t able to guess { secret_num } in {TRIES} tries.')"
   ]
  },
  {
   "cell_type": "markdown",
   "id": "47f423ee",
   "metadata": {},
   "source": [
    "## Problem 3"
   ]
  },
  {
   "cell_type": "code",
   "execution_count": null,
   "id": "221b9708",
   "metadata": {},
   "outputs": [],
   "source": [
    "choices = {\n",
    "    '1': 'Rock', 'rock': 'Rock',\n",
    "    '2': 'Paper', 'paper': 'Paper',\n",
    "    '3': 'Scissors', 'scissors': 'Scissors',\n",
    "    '4': 'Lizard', 'lizard': 'Lizard',\n",
    "    '5': 'Spock', 'spock': 'Spock',\n",
    "          }\n",
    "pairings = {\n",
    "    # (winner, loser): phrase\n",
    "    ('Rock', 'Lizard'): 'Rock crushes lizard.',\n",
    "    ('Rock', 'Scissors'): 'Rock crushes scissors.',\n",
    "    ('Paper', 'Rock'): 'Paper covers rock.',\n",
    "    ('Paper', 'Spock'): 'Paper disproves Spock.',\n",
    "    ('Scissors', 'Paper'): 'Scissors cuts paper.',\n",
    "    ('Scissors', 'Lizard'): 'Scissors decapitates lizard.',\n",
    "    ('Lizard', 'Spock'): 'Lizard poisons Spock.',\n",
    "    ('Lizard', 'Paper'): 'Lizard eats paper.',\n",
    "    ('Spock', 'Scissors'): 'Spock smashes scissors.',\n",
    "    ('Spock', 'Rock'): 'Spock vaporizes rock.',\n",
    "}\n",
    "menu = \"\"\"\n",
    "1. Rock\n",
    "2. Paper\n",
    "3. Scissors\n",
    "4. Lizard\n",
    "5. Spock\n",
    "q to quit\n",
    "c to see choices again\n",
    "\"\"\"\n",
    "\n",
    "print(f\"\"\"\n",
    "Let\\'s play Rock Paper Scissors Lizard Spock. Choose one of the following.\n",
    "{menu}\n",
    "\"\"\")\n",
    "wins = 0\n",
    "plays = 0\n",
    "\n",
    "while (True):\n",
    "    computer_choice = rand_elem(list(set(choices.values())))\n",
    "    play = input().lower()\n",
    "    # Currently using Python 3.9. Match-case statements will be cool in 3.10.\n",
    "    if play == 'q':\n",
    "        break\n",
    "    if play == 'c':\n",
    "        print(menu)\n",
    "        continue\n",
    "    \n",
    "    play = choices.get(play)\n",
    "    if not play:\n",
    "        print(f'Your selection was not recognized. Please choose again from these choices\\n{menu}')\n",
    "        continue\n",
    "    elif pairings.get((play, computer_choice)):\n",
    "        print(f'You win. {pairings.get((play, computer_choice))}')\n",
    "        wins = wins + 1\n",
    "    elif play == computer_choice:\n",
    "        print(f'Tie. We both chose {play}')\n",
    "        wins = wins + 0.5\n",
    "    elif pairings.get((computer_choice, play)):\n",
    "        print(f'You lose. {pairings.get((computer_choice, play))}')\n",
    "    else:\n",
    "        print(\"An unknown error occured. Bye!\")\n",
    "        print(play, computer_choice)\n",
    "        break\n",
    "    plays = plays + 1\n",
    "\n",
    "print(f'Thanks for playing! Your score is {wins} out of {plays}')\n",
    "        "
   ]
  }
 ],
 "metadata": {
  "kernelspec": {
   "display_name": "Python 3 (ipykernel)",
   "language": "python",
   "name": "python3"
  },
  "language_info": {
   "codemirror_mode": {
    "name": "ipython",
    "version": 3
   },
   "file_extension": ".py",
   "mimetype": "text/x-python",
   "name": "python",
   "nbconvert_exporter": "python",
   "pygments_lexer": "ipython3",
   "version": "3.9.7"
  }
 },
 "nbformat": 4,
 "nbformat_minor": 5
}
